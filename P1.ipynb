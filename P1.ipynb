{
 "cells": [
  {
   "cell_type": "markdown",
   "metadata": {},
   "source": [
    "# Self-Driving Car Engineer Nanodegree\n",
    "\n",
    "\n",
    "## Project: **Finding Lane Lines on the Road** \n",
    "***\n",
    "In this first project, tools to identify lane lines on the road that were learned during the lesson are used.  A pipeline designed for processing individual images is used, so videos are precessed image by image.\n",
    "\n",
    "The \"refined_draw_lines()\" function is an update to the similar \"draw_lines()\" function, with the difference that the firs averages and the line segments  detected to map out the full extent of the lane lines. Ultimately, just two lines are drawn: one for the left side of the lane, and one for the right.\n",
    "\n",
    "\n",
    "\n"
   ]
  },
  {
   "cell_type": "markdown",
   "metadata": {},
   "source": [
    "---\n",
    "**The tools available included: color selection, region of interest selection, grayscaling, Gaussian smoothing, Canny Edge Detection and Hough Tranform line detection. The goal was to piece together a pipeline to detect the line segments in the image, then average/extrapolate them and draw them onto the image for display.**\n"
   ]
  },
  {
   "cell_type": "markdown",
   "metadata": {},
   "source": [
    "## Project Code"
   ]
  },
  {
   "cell_type": "code",
   "execution_count": 11,
   "metadata": {},
   "outputs": [],
   "source": [
    "# Created by Hernan Martinez Sanchez\n",
    "# Udacity: Self-Driving Car Nanodegree\n",
    "# 2018\n",
    "\n",
    "#Import Libraries\n",
    "import matplotlib.pyplot as plt\n",
    "import matplotlib.image as mpimg\n",
    "import numpy as np\n",
    "import cv2\n",
    "%matplotlib inline\n",
    "import os\n",
    "from moviepy.editor import VideoFileClip\n",
    "from IPython.display import HTML\n",
    "import tensorflow as tf\n",
    "\n",
    "\n",
    "\n",
    "# Define the different image manipulation processes as functions\n",
    "def grayscale(img):\n",
    "    \"\"\"Applies the Grayscale transform\n",
    "    to the image\"\"\"\n",
    "    return cv2.cvtColor(img, cv2.COLOR_RGB2GRAY)\n",
    "\n",
    "    \n",
    "def region_of_interest(img, vertices):\n",
    "    \"\"\"\n",
    "    Applies an image mask.\n",
    "    Keeps only the region of the image defined by the polygon\n",
    "    formed from `vertices`. The rest of the image is set to black.\n",
    "    \"\"\"\n",
    "    #Define a blank mask made up of zeros \n",
    "    mask = np.zeros_like(img)   \n",
    "    \n",
    "    #Define a 3 channel or 1 channel color to fill the mask with depending on the input image\n",
    "    if len(img.shape) > 2:\n",
    "        channel_count = img.shape[2]\n",
    "        ignore_mask_color = (255,) * channel_count\n",
    "    else:\n",
    "        ignore_mask_color = 255\n",
    "        \n",
    "    #Fill pixels inside the polygon defined by \"vertices\" with the fill color    \n",
    "    cv2.fillPoly(mask, vertices, ignore_mask_color)\n",
    "    \n",
    "    #Return the image only where mask pixels are non-zero\n",
    "    masked_image = cv2.bitwise_and(img, mask)\n",
    "    return masked_image\n",
    "\n",
    "def canny(img, low_threshold, high_threshold):\n",
    "    \"\"\"Applies the Canny transform\"\"\"\n",
    "    return cv2.Canny(img, low_threshold, high_threshold)\n",
    "\n",
    "def gaussian_blur(img, kernel_size):\n",
    "    \"\"\"Applies a Gaussian Noise kernel\"\"\"\n",
    "    return cv2.GaussianBlur(img, (kernel_size, kernel_size), 0)\n",
    "\n",
    "def draw_lines(img, lines, color=[255, 0, 0], thickness=2):\n",
    "    \"\"\"  \n",
    "    This function draws `lines` with `color` and `thickness`.    \n",
    "\n",
    "    \"\"\"\n",
    "    for line in lines:\n",
    "        for x1,y1,x2,y2 in line:\n",
    "            cv2.line(img, (x1, y1), (x2, y2), color, thickness)\n",
    "\n",
    "def refined_draw_lines(img, lines, color=[255, 0, 0], thickness=10):\n",
    "    \n",
    "    \n",
    "    \"\"\"  \n",
    "    Separates line segments by their slope ((y2-y1)/(x2-x1)) ,\n",
    "    creating 2 groups: if a line has a positive slope value\n",
    "    it will be appended to group 1; if the slope has a negative value\n",
    "    it will end up in group 2.\n",
    "    Horizontal or vertical lines are ignored (that is, if the \n",
    "    denominator or dividend is equal to 0, the line will not be saved).\n",
    "    \n",
    "    A final left line is calculated by averaging the position of each\n",
    "    of the segments that belong to group 1. The process is repeated \n",
    "    for a final right line, using group 2. These two lines are then\n",
    "    extrapolated to the top and bottom of the lane. \n",
    "    \n",
    "    This function draws `lines` with `color` and `thickness`. It is an\n",
    "    \"improved\" version of the draw_lines() function.\n",
    "\n",
    "    \"\"\"\n",
    "    \n",
    "    # Create lists in which to save slopes and center values.\n",
    "    rm = []\n",
    "    lm = []\n",
    "    rc = []\n",
    "    lc = []\n",
    "    \n",
    "    # Remove vertical and horizontal lines, as well as lines with a slope greater than\n",
    "    # 0.5 for the right side and smaller than -0.5 for the left side.\n",
    "    for line in lines:\n",
    "        for x1,y1,x2,y2 in line:\n",
    "            if (((x2-x1)==0) or ((y2-y1)==0)):\n",
    "                None\n",
    "            else:\n",
    "                slope = (y2-y1)/(x2-x1)\n",
    "                center = [(x2+x1)/2,(y2+y1)/2]\n",
    "                if (slope > 0.5): \n",
    "                    rm.append(slope)\n",
    "                    rc.append(center)\n",
    "                elif (slope < (-0.5)):\n",
    "                    lm.append(slope)\n",
    "                    lc.append(center)\n",
    "                else:\n",
    "                    None\n",
    "    # Get the mean slope for the right and left side\n",
    "    r_slope = np.sum(rm)/len(rm)\n",
    "    l_slope = np.sum(lm)/len(lm)\n",
    "    \n",
    "    # Get the mean value of the line center for the right and left side\n",
    "    r_center = np.divide(np.sum(rc,axis=0),len(rc))\n",
    "    l_center = np.divide(np.sum(lc,axis=0),len(lc))\n",
    "    \n",
    "   # Draw right line        \n",
    "    x1= int((-r_center[1]+540+(r_slope)*(r_center[0]))/r_slope)\n",
    "    y1=540\n",
    "    x2= int((330-r_center[1]+(r_slope)*(r_center[0]))/r_slope)\n",
    "    y2=330\n",
    "    cv2.line(img, (x1, y1), (x2, y2), color, thickness)\n",
    "    \n",
    "    # Draw left line       \n",
    "    x1= int((-l_center[1]+540+(l_slope)*(l_center[0]))/l_slope)\n",
    "    y1=540\n",
    "    x2= int((330-l_center[1]+(l_slope)*(l_center[0]))/l_slope)\n",
    "    y2=330\n",
    "    cv2.line(img, (x1, y1), (x2, y2), color, thickness)\n",
    "\n",
    "def hough_lines(img, rho, theta, threshold, min_line_len, max_line_gap):\n",
    "    \"\"\"\n",
    "    `img` should be the output of a Canny transform.\n",
    "        \n",
    "    Returns an image with hough lines drawn.\n",
    "    \"\"\"\n",
    "    \n",
    "    # Draw lines over blank image\n",
    "    lines = cv2.HoughLinesP(img, rho, theta, threshold, np.array([]), minLineLength=min_line_len, maxLineGap=max_line_gap)\n",
    "    line_img = np.zeros((img.shape[0], img.shape[1], 3), dtype=np.uint8)\n",
    "    draw_lines(line_img, lines)\n",
    "    return line_img\n",
    "\n",
    "def refined_hough_lines(img, rho, theta, threshold, min_line_len, max_line_gap):\n",
    "    \"\"\"\n",
    "    `img` should be the output of a Canny transform.\n",
    "        \n",
    "    Returns an image with hough lines drawn.\n",
    "    \"\"\"\n",
    "    # Draw lines on a blank image. Use the \"refined_draw_lines()\" function to get better, more consistent\n",
    "    # lines.\n",
    "    lines = cv2.HoughLinesP(img, rho, theta, threshold, np.array([]), minLineLength=min_line_len, maxLineGap=max_line_gap)\n",
    "    line_img = np.zeros((img.shape[0], img.shape[1], 3), dtype=np.uint8)\n",
    "    refined_draw_lines(line_img, lines)\n",
    "    return line_img\n",
    "\n",
    "def weighted_img(img, initial_img, α=0.8, β=1., γ=0.):\n",
    "    \"\"\"\n",
    "    `img` is the output of the hough_lines(), An image with lines drawn on it.\n",
    "    Should be a blank image (all black) with lines drawn on it.\n",
    "    \n",
    "    `initial_img` should be the image before any processing.\n",
    "    \n",
    "    The result image is computed as follows:\n",
    "    \n",
    "    initial_img * α + img * β + γ\n",
    "    \"\"\"\n",
    "    # Draw lines over original image.\n",
    "    return cv2.addWeighted(initial_img, α, img, β, γ)\n",
    "\n",
    "def process_image(image):\n",
    "    \n",
    "    \"\"\"\n",
    "    This function is a pipeline to detect lane lines based on the canny transform.\n",
    "    It uses gray images to simplify computation, and applies a gaussian blur to draw\n",
    "    more continuous less sloppy lines. A region of interest is cut in order to process only\n",
    "    the important section where lines will be detected (due to the cars camera position, this\n",
    "    region will not change). A hough transform is applied and lines are finally drawn on the\n",
    "    original image. The result is interesting but final lines are still a bit sloppy.\n",
    "    This function only processes an individual image.\n",
    "    \"\"\"\n",
    "    \n",
    "    color_select = np.copy(image)\n",
    "    gray = grayscale(color_select)\n",
    "    canny_img = canny(gray, 100, 150)\n",
    "    gauss_img = gaussian_blur(canny_img, 7)\n",
    "    imshape = gray.shape\n",
    "    vertices= np.array([[(0,imshape[0]),(450, 320), (490, 320), (imshape[1],imshape[0])]], dtype=np.int32)\n",
    "    interest=region_of_interest(gauss_img,vertices)\n",
    "    hough = hough_lines(interest, 2, np.pi/180, 100, 20, 100)\n",
    "    weighted = weighted_img(hough, color_select, α=0.8, β=1., γ=0.)\n",
    "    return weighted\n",
    "\n",
    "def refined_process_image(image):\n",
    "    \n",
    "    \"\"\"\n",
    "    This function describes a pipeline similar to the one in the process_image() function.\n",
    "    The main difference is that the function \"refined_draw_lines()\" is used, which averages\n",
    "    lines and produces a more consistend result.\n",
    "    \"\"\"\n",
    "    color_select = np.copy(image)\n",
    "    gray = grayscale(color_select)\n",
    "    canny_img = canny(gray, 100, 150)\n",
    "    gauss_img = gaussian_blur(canny_img, 7)\n",
    "    imshape = gray.shape\n",
    "    vertices= np.array([[(0,imshape[0]),(450, 320), (490, 320), (imshape[1],imshape[0])]], dtype=np.int32)\n",
    "    interest=region_of_interest(gauss_img,vertices)\n",
    "    hough = refined_hough_lines(interest, 2, np.pi/180, 100, 20, 100)\n",
    "    weighted = weighted_img(hough, color_select, α=0.8, β=1., γ=0.)\n",
    "    return weighted\n",
    "\n",
    "\n",
    "\n"
   ]
  },
  {
   "cell_type": "markdown",
   "metadata": {},
   "source": [
    "# Results"
   ]
  },
  {
   "cell_type": "markdown",
   "metadata": {},
   "source": [
    "First Video"
   ]
  },
  {
   "cell_type": "code",
   "execution_count": 10,
   "metadata": {},
   "outputs": [
    {
     "name": "stdout",
     "output_type": "stream",
     "text": [
      "[MoviePy] >>>> Building video test_videos_output/solidWhiteRight.mp4\n",
      "[MoviePy] Writing video test_videos_output/solidWhiteRight.mp4\n"
     ]
    },
    {
     "name": "stderr",
     "output_type": "stream",
     "text": [
      "100%|█████████▉| 221/222 [00:08<00:00, 25.66it/s]\n"
     ]
    },
    {
     "name": "stdout",
     "output_type": "stream",
     "text": [
      "[MoviePy] Done.\n",
      "[MoviePy] >>>> Video ready: test_videos_output/solidWhiteRight.mp4 \n",
      "\n",
      "CPU times: user 4.94 s, sys: 783 ms, total: 5.73 s\n",
      "Wall time: 9.73 s\n"
     ]
    },
    {
     "data": {
      "text/html": [
       "\n",
       "<video width=\"960\" height=\"540\" controls>\n",
       "  <source src=\"test_videos_output/solidWhiteRight.mp4\">\n",
       "</video>\n"
      ],
      "text/plain": [
       "<IPython.core.display.HTML object>"
      ]
     },
     "execution_count": 10,
     "metadata": {},
     "output_type": "execute_result"
    }
   ],
   "source": [
    "# Process lane videos using the \"refined_process_image()\" function\n",
    "\n",
    "# The resulting processed video will be saved with a specific name in the output folder\n",
    "white_output = 'test_videos_output/solidWhiteRight.mp4'\n",
    "\n",
    "\n",
    "# Process the first video using the function\n",
    "clip1 = VideoFileClip(\"test_videos/solidWhiteRight.mp4\")\n",
    "white_clip = clip1.fl_image(refined_process_image) #NOTE: this function expects color images!!\n",
    "%time white_clip.write_videofile(white_output, audio=False)\n",
    "\n",
    "# Output the video as HTML\n",
    "HTML(\"\"\"\n",
    "<video width=\"960\" height=\"540\" controls>\n",
    "  <source src=\"{0}\">\n",
    "</video>\n",
    "\"\"\".format(white_output))"
   ]
  },
  {
   "cell_type": "markdown",
   "metadata": {},
   "source": [
    "Second Video"
   ]
  },
  {
   "cell_type": "code",
   "execution_count": 9,
   "metadata": {},
   "outputs": [
    {
     "name": "stdout",
     "output_type": "stream",
     "text": [
      "[MoviePy] >>>> Building video test_videos_output/solidYellowLeft.mp4\n",
      "[MoviePy] Writing video test_videos_output/solidYellowLeft.mp4\n"
     ]
    },
    {
     "name": "stderr",
     "output_type": "stream",
     "text": [
      "100%|█████████▉| 681/682 [00:25<00:00, 26.62it/s]\n"
     ]
    },
    {
     "name": "stdout",
     "output_type": "stream",
     "text": [
      "[MoviePy] Done.\n",
      "[MoviePy] >>>> Video ready: test_videos_output/solidYellowLeft.mp4 \n",
      "\n",
      "CPU times: user 15.4 s, sys: 2.29 s, total: 17.7 s\n",
      "Wall time: 26.4 s\n"
     ]
    },
    {
     "data": {
      "text/html": [
       "\n",
       "<video width=\"960\" height=\"540\" controls>\n",
       "  <source src=\"test_videos_output/solidYellowLeft.mp4\">\n",
       "</video>\n"
      ],
      "text/plain": [
       "<IPython.core.display.HTML object>"
      ]
     },
     "execution_count": 9,
     "metadata": {},
     "output_type": "execute_result"
    }
   ],
   "source": [
    "# The resulting processed video will be saved with a specific name in the output folder\n",
    "yellow_output = 'test_videos_output/solidYellowLeft.mp4'\n",
    "\n",
    "# Process the second video using the function\n",
    "clip2 = VideoFileClip('test_videos/solidYellowLeft.mp4')\n",
    "yellow_clip = clip2.fl_image(refined_process_image)\n",
    "%time yellow_clip.write_videofile(yellow_output, audio=False)\n",
    "\n",
    "# Output the video as HTML\n",
    "HTML(\"\"\"\n",
    "<video width=\"960\" height=\"540\" controls>\n",
    "  <source src=\"{0}\">\n",
    "</video>\n",
    "\"\"\".format(yellow_output))\n",
    "\n",
    "# END"
   ]
  },
  {
   "cell_type": "code",
   "execution_count": null,
   "metadata": {},
   "outputs": [],
   "source": []
  }
 ],
 "metadata": {
  "anaconda-cloud": {},
  "kernelspec": {
   "display_name": "Python 3",
   "language": "python",
   "name": "python3"
  },
  "language_info": {
   "codemirror_mode": {
    "name": "ipython",
    "version": 3
   },
   "file_extension": ".py",
   "mimetype": "text/x-python",
   "name": "python",
   "nbconvert_exporter": "python",
   "pygments_lexer": "ipython3",
   "version": "3.6.4"
  }
 },
 "nbformat": 4,
 "nbformat_minor": 1
}
